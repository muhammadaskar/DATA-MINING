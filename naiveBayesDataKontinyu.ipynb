{
  "nbformat": 4,
  "nbformat_minor": 0,
  "metadata": {
    "kernelspec": {
      "display_name": "Python 3",
      "language": "python",
      "name": "python3"
    },
    "language_info": {
      "codemirror_mode": {
        "name": "ipython",
        "version": 3
      },
      "file_extension": ".py",
      "mimetype": "text/x-python",
      "name": "python",
      "nbconvert_exporter": "python",
      "pygments_lexer": "ipython3",
      "version": "3.7.3"
    },
    "colab": {
      "name": "naiveBayesDataKontinyu.ipynb",
      "provenance": [],
      "collapsed_sections": [],
      "include_colab_link": true
    }
  },
  "cells": [
    {
      "cell_type": "markdown",
      "metadata": {
        "id": "view-in-github",
        "colab_type": "text"
      },
      "source": [
        "<a href=\"https://colab.research.google.com/github/muhammadaskar/DATA-MINING/blob/main/naiveBayesDataKontinyu.ipynb\" target=\"_parent\"><img src=\"https://colab.research.google.com/assets/colab-badge.svg\" alt=\"Open In Colab\"/></a>"
      ]
    },
    {
      "cell_type": "code",
      "metadata": {
        "id": "dr6TGkdiIhtn"
      },
      "source": [
        "import pandas as pd"
      ],
      "execution_count": 6,
      "outputs": []
    },
    {
      "cell_type": "code",
      "metadata": {
        "id": "eOQwbH3GS46p"
      },
      "source": [
        "# KETERANGAN\n",
        "\n",
        "# suka musik \n",
        "#  1 = tidak suka\n",
        "#  2 = suka\n",
        "#  3 = kadang - kadang\n",
        "\n",
        "# suka membaca\n",
        "#  1 = tidak suka\n",
        "#  2 = suka\n",
        "#  3 = kadang - kadang\n",
        "\n",
        "# suka olahraga\n",
        "#  1 = tidak suka\n",
        "#  2 = suka\n",
        "#  3 = kadang - kadang\n",
        "\n",
        "# senang diskusi\n",
        "#  1 = tidak suka\n",
        "#  2 = suka\n",
        "#  3 = kadang - kadang\n",
        "\n",
        "# suka menggambar\n",
        "#  1 = tidak suka\n",
        "#  2 = suka\n",
        "#  3 = kadang - kadang\n",
        "\n",
        "# suka menari\n",
        "#  1 = tidak suka\n",
        "#  2 = suka\n",
        "#  3 = kadang - kadang\n",
        "\n",
        "# gaya belajar\n",
        "#  1 = Auditori\n",
        "#  2 = Visual\n",
        "#  3 = Kinestetik"
      ],
      "execution_count": 12,
      "outputs": []
    },
    {
      "cell_type": "code",
      "metadata": {
        "colab": {
          "base_uri": "https://localhost:8080/",
          "height": 203
        },
        "id": "7_nkYovkIhto",
        "outputId": "562d7c7a-5b45-46ce-8cb6-ed1f38877dd2"
      },
      "source": [
        "dt = pd.read_excel(\"/content/sample_data/data testing.xls\")\n",
        "dt.head()"
      ],
      "execution_count": 17,
      "outputs": [
        {
          "output_type": "execute_result",
          "data": {
            "text/html": [
              "<div>\n",
              "<style scoped>\n",
              "    .dataframe tbody tr th:only-of-type {\n",
              "        vertical-align: middle;\n",
              "    }\n",
              "\n",
              "    .dataframe tbody tr th {\n",
              "        vertical-align: top;\n",
              "    }\n",
              "\n",
              "    .dataframe thead th {\n",
              "        text-align: right;\n",
              "    }\n",
              "</style>\n",
              "<table border=\"1\" class=\"dataframe\">\n",
              "  <thead>\n",
              "    <tr style=\"text-align: right;\">\n",
              "      <th></th>\n",
              "      <th>Jenis Kelamin</th>\n",
              "      <th>suka musik</th>\n",
              "      <th>Suka Membaca</th>\n",
              "      <th>Suka Olahraga</th>\n",
              "      <th>Senang Diskusi</th>\n",
              "      <th>Suka Menggambar</th>\n",
              "      <th>Suka Menari</th>\n",
              "      <th>Gaya Belajar</th>\n",
              "    </tr>\n",
              "  </thead>\n",
              "  <tbody>\n",
              "    <tr>\n",
              "      <th>0</th>\n",
              "      <td>Laki-laki</td>\n",
              "      <td>2</td>\n",
              "      <td>1</td>\n",
              "      <td>1</td>\n",
              "      <td>2</td>\n",
              "      <td>1</td>\n",
              "      <td>1</td>\n",
              "      <td>1</td>\n",
              "    </tr>\n",
              "    <tr>\n",
              "      <th>1</th>\n",
              "      <td>Perempuan</td>\n",
              "      <td>1</td>\n",
              "      <td>2</td>\n",
              "      <td>2</td>\n",
              "      <td>1</td>\n",
              "      <td>2</td>\n",
              "      <td>1</td>\n",
              "      <td>2</td>\n",
              "    </tr>\n",
              "    <tr>\n",
              "      <th>2</th>\n",
              "      <td>Perempuan</td>\n",
              "      <td>1</td>\n",
              "      <td>1</td>\n",
              "      <td>2</td>\n",
              "      <td>1</td>\n",
              "      <td>1</td>\n",
              "      <td>2</td>\n",
              "      <td>3</td>\n",
              "    </tr>\n",
              "    <tr>\n",
              "      <th>3</th>\n",
              "      <td>Laki-laki</td>\n",
              "      <td>3</td>\n",
              "      <td>2</td>\n",
              "      <td>3</td>\n",
              "      <td>1</td>\n",
              "      <td>1</td>\n",
              "      <td>2</td>\n",
              "      <td>3</td>\n",
              "    </tr>\n",
              "    <tr>\n",
              "      <th>4</th>\n",
              "      <td>Laki-laki</td>\n",
              "      <td>1</td>\n",
              "      <td>2</td>\n",
              "      <td>2</td>\n",
              "      <td>1</td>\n",
              "      <td>2</td>\n",
              "      <td>1</td>\n",
              "      <td>2</td>\n",
              "    </tr>\n",
              "  </tbody>\n",
              "</table>\n",
              "</div>"
            ],
            "text/plain": [
              "  Jenis Kelamin  suka musik  ...  Suka Menari  Gaya Belajar\n",
              "0     Laki-laki           2  ...            1             1\n",
              "1     Perempuan           1  ...            1             2\n",
              "2     Perempuan           1  ...            2             3\n",
              "3     Laki-laki           3  ...            2             3\n",
              "4     Laki-laki           1  ...            1             2\n",
              "\n",
              "[5 rows x 8 columns]"
            ]
          },
          "metadata": {},
          "execution_count": 17
        }
      ]
    },
    {
      "cell_type": "code",
      "metadata": {
        "colab": {
          "base_uri": "https://localhost:8080/"
        },
        "id": "Ar9aqEzgIhtp",
        "outputId": "d7547bc3-367c-42c7-965c-5518849a4c08"
      },
      "source": [
        "dt.info()"
      ],
      "execution_count": 18,
      "outputs": [
        {
          "output_type": "stream",
          "name": "stdout",
          "text": [
            "<class 'pandas.core.frame.DataFrame'>\n",
            "RangeIndex: 15 entries, 0 to 14\n",
            "Data columns (total 8 columns):\n",
            " #   Column           Non-Null Count  Dtype \n",
            "---  ------           --------------  ----- \n",
            " 0   Jenis Kelamin    15 non-null     object\n",
            " 1   suka musik       15 non-null     int64 \n",
            " 2   Suka Membaca     15 non-null     int64 \n",
            " 3   Suka Olahraga    15 non-null     int64 \n",
            " 4   Senang Diskusi   15 non-null     int64 \n",
            " 5   Suka Menggambar  15 non-null     int64 \n",
            " 6   Suka Menari      15 non-null     int64 \n",
            " 7   Gaya Belajar     15 non-null     int64 \n",
            "dtypes: int64(7), object(1)\n",
            "memory usage: 1.1+ KB\n"
          ]
        }
      ]
    },
    {
      "cell_type": "code",
      "metadata": {
        "colab": {
          "base_uri": "https://localhost:8080/",
          "height": 511
        },
        "id": "cuelRI8wIhtp",
        "outputId": "8de4415b-d4a6-45a0-b9ec-95119006ea4a"
      },
      "source": [
        "x = dt.drop([\"Jenis Kelamin\"], axis=1)\n",
        "x.head(15)"
      ],
      "execution_count": 19,
      "outputs": [
        {
          "output_type": "execute_result",
          "data": {
            "text/html": [
              "<div>\n",
              "<style scoped>\n",
              "    .dataframe tbody tr th:only-of-type {\n",
              "        vertical-align: middle;\n",
              "    }\n",
              "\n",
              "    .dataframe tbody tr th {\n",
              "        vertical-align: top;\n",
              "    }\n",
              "\n",
              "    .dataframe thead th {\n",
              "        text-align: right;\n",
              "    }\n",
              "</style>\n",
              "<table border=\"1\" class=\"dataframe\">\n",
              "  <thead>\n",
              "    <tr style=\"text-align: right;\">\n",
              "      <th></th>\n",
              "      <th>suka musik</th>\n",
              "      <th>Suka Membaca</th>\n",
              "      <th>Suka Olahraga</th>\n",
              "      <th>Senang Diskusi</th>\n",
              "      <th>Suka Menggambar</th>\n",
              "      <th>Suka Menari</th>\n",
              "      <th>Gaya Belajar</th>\n",
              "    </tr>\n",
              "  </thead>\n",
              "  <tbody>\n",
              "    <tr>\n",
              "      <th>0</th>\n",
              "      <td>2</td>\n",
              "      <td>1</td>\n",
              "      <td>1</td>\n",
              "      <td>2</td>\n",
              "      <td>1</td>\n",
              "      <td>1</td>\n",
              "      <td>1</td>\n",
              "    </tr>\n",
              "    <tr>\n",
              "      <th>1</th>\n",
              "      <td>1</td>\n",
              "      <td>2</td>\n",
              "      <td>2</td>\n",
              "      <td>1</td>\n",
              "      <td>2</td>\n",
              "      <td>1</td>\n",
              "      <td>2</td>\n",
              "    </tr>\n",
              "    <tr>\n",
              "      <th>2</th>\n",
              "      <td>1</td>\n",
              "      <td>1</td>\n",
              "      <td>2</td>\n",
              "      <td>1</td>\n",
              "      <td>1</td>\n",
              "      <td>2</td>\n",
              "      <td>3</td>\n",
              "    </tr>\n",
              "    <tr>\n",
              "      <th>3</th>\n",
              "      <td>3</td>\n",
              "      <td>2</td>\n",
              "      <td>3</td>\n",
              "      <td>1</td>\n",
              "      <td>1</td>\n",
              "      <td>2</td>\n",
              "      <td>3</td>\n",
              "    </tr>\n",
              "    <tr>\n",
              "      <th>4</th>\n",
              "      <td>1</td>\n",
              "      <td>2</td>\n",
              "      <td>2</td>\n",
              "      <td>1</td>\n",
              "      <td>2</td>\n",
              "      <td>1</td>\n",
              "      <td>2</td>\n",
              "    </tr>\n",
              "    <tr>\n",
              "      <th>5</th>\n",
              "      <td>1</td>\n",
              "      <td>1</td>\n",
              "      <td>2</td>\n",
              "      <td>1</td>\n",
              "      <td>1</td>\n",
              "      <td>2</td>\n",
              "      <td>3</td>\n",
              "    </tr>\n",
              "    <tr>\n",
              "      <th>6</th>\n",
              "      <td>2</td>\n",
              "      <td>3</td>\n",
              "      <td>3</td>\n",
              "      <td>2</td>\n",
              "      <td>1</td>\n",
              "      <td>1</td>\n",
              "      <td>1</td>\n",
              "    </tr>\n",
              "    <tr>\n",
              "      <th>7</th>\n",
              "      <td>3</td>\n",
              "      <td>3</td>\n",
              "      <td>1</td>\n",
              "      <td>1</td>\n",
              "      <td>2</td>\n",
              "      <td>2</td>\n",
              "      <td>2</td>\n",
              "    </tr>\n",
              "    <tr>\n",
              "      <th>8</th>\n",
              "      <td>3</td>\n",
              "      <td>2</td>\n",
              "      <td>1</td>\n",
              "      <td>2</td>\n",
              "      <td>1</td>\n",
              "      <td>1</td>\n",
              "      <td>1</td>\n",
              "    </tr>\n",
              "    <tr>\n",
              "      <th>9</th>\n",
              "      <td>1</td>\n",
              "      <td>2</td>\n",
              "      <td>1</td>\n",
              "      <td>3</td>\n",
              "      <td>2</td>\n",
              "      <td>1</td>\n",
              "      <td>2</td>\n",
              "    </tr>\n",
              "    <tr>\n",
              "      <th>10</th>\n",
              "      <td>2</td>\n",
              "      <td>3</td>\n",
              "      <td>2</td>\n",
              "      <td>2</td>\n",
              "      <td>1</td>\n",
              "      <td>1</td>\n",
              "      <td>2</td>\n",
              "    </tr>\n",
              "    <tr>\n",
              "      <th>11</th>\n",
              "      <td>2</td>\n",
              "      <td>1</td>\n",
              "      <td>2</td>\n",
              "      <td>2</td>\n",
              "      <td>1</td>\n",
              "      <td>1</td>\n",
              "      <td>1</td>\n",
              "    </tr>\n",
              "    <tr>\n",
              "      <th>12</th>\n",
              "      <td>2</td>\n",
              "      <td>1</td>\n",
              "      <td>1</td>\n",
              "      <td>2</td>\n",
              "      <td>3</td>\n",
              "      <td>1</td>\n",
              "      <td>1</td>\n",
              "    </tr>\n",
              "    <tr>\n",
              "      <th>13</th>\n",
              "      <td>2</td>\n",
              "      <td>2</td>\n",
              "      <td>1</td>\n",
              "      <td>2</td>\n",
              "      <td>1</td>\n",
              "      <td>3</td>\n",
              "      <td>1</td>\n",
              "    </tr>\n",
              "    <tr>\n",
              "      <th>14</th>\n",
              "      <td>1</td>\n",
              "      <td>1</td>\n",
              "      <td>2</td>\n",
              "      <td>1</td>\n",
              "      <td>1</td>\n",
              "      <td>1</td>\n",
              "      <td>3</td>\n",
              "    </tr>\n",
              "  </tbody>\n",
              "</table>\n",
              "</div>"
            ],
            "text/plain": [
              "    suka musik  Suka Membaca  ...  Suka Menari  Gaya Belajar\n",
              "0            2             1  ...            1             1\n",
              "1            1             2  ...            1             2\n",
              "2            1             1  ...            2             3\n",
              "3            3             2  ...            2             3\n",
              "4            1             2  ...            1             2\n",
              "5            1             1  ...            2             3\n",
              "6            2             3  ...            1             1\n",
              "7            3             3  ...            2             2\n",
              "8            3             2  ...            1             1\n",
              "9            1             2  ...            1             2\n",
              "10           2             3  ...            1             2\n",
              "11           2             1  ...            1             1\n",
              "12           2             1  ...            1             1\n",
              "13           2             2  ...            3             1\n",
              "14           1             1  ...            1             3\n",
              "\n",
              "[15 rows x 7 columns]"
            ]
          },
          "metadata": {},
          "execution_count": 19
        }
      ]
    },
    {
      "cell_type": "code",
      "metadata": {
        "colab": {
          "base_uri": "https://localhost:8080/"
        },
        "id": "0cBhKzQLIhtq",
        "outputId": "d990cc1d-b92b-43f5-ca0a-d9d67d3da9e5"
      },
      "source": [
        "y = dt[\"Gaya Belajar\"]\n",
        "y.head(15)"
      ],
      "execution_count": 38,
      "outputs": [
        {
          "output_type": "execute_result",
          "data": {
            "text/plain": [
              "0     1\n",
              "1     2\n",
              "2     3\n",
              "3     3\n",
              "4     2\n",
              "5     3\n",
              "6     1\n",
              "7     2\n",
              "8     1\n",
              "9     2\n",
              "10    2\n",
              "11    1\n",
              "12    1\n",
              "13    1\n",
              "14    3\n",
              "Name: Gaya Belajar, dtype: int64"
            ]
          },
          "metadata": {},
          "execution_count": 38
        }
      ]
    },
    {
      "cell_type": "code",
      "metadata": {
        "scrolled": true,
        "colab": {
          "base_uri": "https://localhost:8080/",
          "height": 203
        },
        "id": "tiHrYBpMIhtr",
        "outputId": "3de8c3ae-3217-41ca-de63-fc1fdd81a0e5"
      },
      "source": [
        "from sklearn.model_selection import train_test_split\n",
        "# Import Gaussian Naive Bayes model\n",
        "from sklearn.naive_bayes import GaussianNB\n",
        "# Mengaktifkan/memanggil/membuat fungsi klasifikasi Naive bayes\n",
        "modelnb = GaussianNB()\n",
        "# Memasukkan data training pada fungsi klasifikasi naive bayes\n",
        "nbtrain = modelnb.fit(x, y)\n",
        "datauji = pd.read_excel(\"/content/sample_data/data uji.xls\")\n",
        "datauji.head(5)"
      ],
      "execution_count": 22,
      "outputs": [
        {
          "output_type": "execute_result",
          "data": {
            "text/html": [
              "<div>\n",
              "<style scoped>\n",
              "    .dataframe tbody tr th:only-of-type {\n",
              "        vertical-align: middle;\n",
              "    }\n",
              "\n",
              "    .dataframe tbody tr th {\n",
              "        vertical-align: top;\n",
              "    }\n",
              "\n",
              "    .dataframe thead th {\n",
              "        text-align: right;\n",
              "    }\n",
              "</style>\n",
              "<table border=\"1\" class=\"dataframe\">\n",
              "  <thead>\n",
              "    <tr style=\"text-align: right;\">\n",
              "      <th></th>\n",
              "      <th>Jenis Kelamin</th>\n",
              "      <th>suka musik</th>\n",
              "      <th>Suka Membaca</th>\n",
              "      <th>Suka Olahraga</th>\n",
              "      <th>Senang Diskusi</th>\n",
              "      <th>Suka Menggambar</th>\n",
              "      <th>Suka Menari</th>\n",
              "      <th>Gaya Belajar</th>\n",
              "    </tr>\n",
              "  </thead>\n",
              "  <tbody>\n",
              "    <tr>\n",
              "      <th>0</th>\n",
              "      <td>perempuan</td>\n",
              "      <td>2</td>\n",
              "      <td>3</td>\n",
              "      <td>1</td>\n",
              "      <td>2</td>\n",
              "      <td>2</td>\n",
              "      <td>1</td>\n",
              "      <td>3</td>\n",
              "    </tr>\n",
              "    <tr>\n",
              "      <th>1</th>\n",
              "      <td>laki-laki</td>\n",
              "      <td>1</td>\n",
              "      <td>1</td>\n",
              "      <td>2</td>\n",
              "      <td>3</td>\n",
              "      <td>1</td>\n",
              "      <td>1</td>\n",
              "      <td>3</td>\n",
              "    </tr>\n",
              "    <tr>\n",
              "      <th>2</th>\n",
              "      <td>perempuan</td>\n",
              "      <td>2</td>\n",
              "      <td>2</td>\n",
              "      <td>1</td>\n",
              "      <td>1</td>\n",
              "      <td>2</td>\n",
              "      <td>3</td>\n",
              "      <td>2</td>\n",
              "    </tr>\n",
              "    <tr>\n",
              "      <th>3</th>\n",
              "      <td>laki-laki</td>\n",
              "      <td>1</td>\n",
              "      <td>3</td>\n",
              "      <td>2</td>\n",
              "      <td>3</td>\n",
              "      <td>1</td>\n",
              "      <td>1</td>\n",
              "      <td>1</td>\n",
              "    </tr>\n",
              "    <tr>\n",
              "      <th>4</th>\n",
              "      <td>perempuan</td>\n",
              "      <td>2</td>\n",
              "      <td>1</td>\n",
              "      <td>1</td>\n",
              "      <td>2</td>\n",
              "      <td>3</td>\n",
              "      <td>1</td>\n",
              "      <td>2</td>\n",
              "    </tr>\n",
              "  </tbody>\n",
              "</table>\n",
              "</div>"
            ],
            "text/plain": [
              "  Jenis Kelamin  suka musik  ...  Suka Menari  Gaya Belajar\n",
              "0     perempuan           2  ...            1             3\n",
              "1     laki-laki           1  ...            1             3\n",
              "2     perempuan           2  ...            3             2\n",
              "3     laki-laki           1  ...            1             1\n",
              "4     perempuan           2  ...            1             2\n",
              "\n",
              "[5 rows x 8 columns]"
            ]
          },
          "metadata": {},
          "execution_count": 22
        }
      ]
    },
    {
      "cell_type": "markdown",
      "metadata": {
        "id": "ZwbuxLFuIhtr"
      },
      "source": [
        "**I am dropping male column as well because of dummy variable trap theory. One column is enough to repressent male vs female**"
      ]
    },
    {
      "cell_type": "code",
      "metadata": {
        "scrolled": true,
        "colab": {
          "base_uri": "https://localhost:8080/",
          "height": 203
        },
        "id": "2BZR6vRhIhtr",
        "outputId": "5fa7b214-15e8-43a0-8e0e-019d9f6ddd09"
      },
      "source": [
        "x_test = datauji.drop([\"Jenis Kelamin\"], axis=1)\n",
        "x_test.head(5)"
      ],
      "execution_count": 25,
      "outputs": [
        {
          "output_type": "execute_result",
          "data": {
            "text/html": [
              "<div>\n",
              "<style scoped>\n",
              "    .dataframe tbody tr th:only-of-type {\n",
              "        vertical-align: middle;\n",
              "    }\n",
              "\n",
              "    .dataframe tbody tr th {\n",
              "        vertical-align: top;\n",
              "    }\n",
              "\n",
              "    .dataframe thead th {\n",
              "        text-align: right;\n",
              "    }\n",
              "</style>\n",
              "<table border=\"1\" class=\"dataframe\">\n",
              "  <thead>\n",
              "    <tr style=\"text-align: right;\">\n",
              "      <th></th>\n",
              "      <th>suka musik</th>\n",
              "      <th>Suka Membaca</th>\n",
              "      <th>Suka Olahraga</th>\n",
              "      <th>Senang Diskusi</th>\n",
              "      <th>Suka Menggambar</th>\n",
              "      <th>Suka Menari</th>\n",
              "      <th>Gaya Belajar</th>\n",
              "    </tr>\n",
              "  </thead>\n",
              "  <tbody>\n",
              "    <tr>\n",
              "      <th>0</th>\n",
              "      <td>2</td>\n",
              "      <td>3</td>\n",
              "      <td>1</td>\n",
              "      <td>2</td>\n",
              "      <td>2</td>\n",
              "      <td>1</td>\n",
              "      <td>3</td>\n",
              "    </tr>\n",
              "    <tr>\n",
              "      <th>1</th>\n",
              "      <td>1</td>\n",
              "      <td>1</td>\n",
              "      <td>2</td>\n",
              "      <td>3</td>\n",
              "      <td>1</td>\n",
              "      <td>1</td>\n",
              "      <td>3</td>\n",
              "    </tr>\n",
              "    <tr>\n",
              "      <th>2</th>\n",
              "      <td>2</td>\n",
              "      <td>2</td>\n",
              "      <td>1</td>\n",
              "      <td>1</td>\n",
              "      <td>2</td>\n",
              "      <td>3</td>\n",
              "      <td>2</td>\n",
              "    </tr>\n",
              "    <tr>\n",
              "      <th>3</th>\n",
              "      <td>1</td>\n",
              "      <td>3</td>\n",
              "      <td>2</td>\n",
              "      <td>3</td>\n",
              "      <td>1</td>\n",
              "      <td>1</td>\n",
              "      <td>1</td>\n",
              "    </tr>\n",
              "    <tr>\n",
              "      <th>4</th>\n",
              "      <td>2</td>\n",
              "      <td>1</td>\n",
              "      <td>1</td>\n",
              "      <td>2</td>\n",
              "      <td>3</td>\n",
              "      <td>1</td>\n",
              "      <td>2</td>\n",
              "    </tr>\n",
              "  </tbody>\n",
              "</table>\n",
              "</div>"
            ],
            "text/plain": [
              "   suka musik  Suka Membaca  ...  Suka Menari  Gaya Belajar\n",
              "0           2             3  ...            1             3\n",
              "1           1             1  ...            1             3\n",
              "2           2             2  ...            3             2\n",
              "3           1             3  ...            1             1\n",
              "4           2             1  ...            1             2\n",
              "\n",
              "[5 rows x 7 columns]"
            ]
          },
          "metadata": {},
          "execution_count": 25
        }
      ]
    },
    {
      "cell_type": "code",
      "metadata": {
        "colab": {
          "base_uri": "https://localhost:8080/"
        },
        "id": "MtKdyyRdIhts",
        "outputId": "4f0ac68d-9db8-4495-b96c-2ee2ff84bfd0"
      },
      "source": [
        "y_uji = datauji[\"Gaya Belajar\"]\n",
        "y_uji.head(5)"
      ],
      "execution_count": 26,
      "outputs": [
        {
          "output_type": "execute_result",
          "data": {
            "text/plain": [
              "0    3\n",
              "1    3\n",
              "2    2\n",
              "3    1\n",
              "4    2\n",
              "Name: Gaya Belajar, dtype: int64"
            ]
          },
          "metadata": {},
          "execution_count": 26
        }
      ]
    },
    {
      "cell_type": "code",
      "metadata": {
        "colab": {
          "base_uri": "https://localhost:8080/"
        },
        "id": "W6acUugIIhts",
        "outputId": "d92dd2e3-bfc8-4e35-ef8f-f32c0fb5136c"
      },
      "source": [
        "Y_predict = nbtrain.predict(x_test)\n",
        "print(\"Prediksi Naive Bayes : \",Y_predict)"
      ],
      "execution_count": 27,
      "outputs": [
        {
          "output_type": "stream",
          "name": "stdout",
          "text": [
            "Prediksi Naive Bayes :  [2 2 2 1 2]\n"
          ]
        }
      ]
    },
    {
      "cell_type": "code",
      "metadata": {
        "colab": {
          "base_uri": "https://localhost:8080/"
        },
        "id": "JyDVwNPaIhts",
        "outputId": "94470735-eeb4-4338-bbba-ad0280386f84"
      },
      "source": [
        "from sklearn.metrics import accuracy_score\n",
        "accuracy= accuracy_score(y_uji, Y_predict)\n",
        "print(\"Akurasi Naive Bayes : \",accuracy)"
      ],
      "execution_count": 28,
      "outputs": [
        {
          "output_type": "stream",
          "name": "stdout",
          "text": [
            "Akurasi Naive Bayes :  0.6\n"
          ]
        }
      ]
    },
    {
      "cell_type": "code",
      "metadata": {
        "colab": {
          "base_uri": "https://localhost:8080/"
        },
        "id": "YXt0F14KbXJ1",
        "outputId": "25dde329-2232-48e4-f0f3-6deb551b58f8"
      },
      "source": [
        "from sklearn.model_selection import cross_val_score\n",
        "scores = cross_val_score(modelnb, x, y, cv=4)\n",
        "scores.mean()"
      ],
      "execution_count": 40,
      "outputs": [
        {
          "output_type": "execute_result",
          "data": {
            "text/plain": [
              "0.7083333333333334"
            ]
          },
          "metadata": {},
          "execution_count": 40
        }
      ]
    }
  ]
}